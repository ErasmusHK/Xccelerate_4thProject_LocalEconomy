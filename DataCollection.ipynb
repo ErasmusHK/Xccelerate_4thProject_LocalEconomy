{
 "cells": [
  {
   "cell_type": "code",
   "execution_count": 1,
   "metadata": {},
   "outputs": [],
   "source": [
    "import json\n",
    "import requests\n",
    "from datetime import date\n",
    "from datetime import datetime\n",
    "\n",
    "import pandas as pd"
   ]
  },
  {
   "attachments": {},
   "cell_type": "markdown",
   "metadata": {},
   "source": [
    "HKJC Annual Report"
   ]
  },
  {
   "cell_type": "code",
   "execution_count": null,
   "metadata": {},
   "outputs": [],
   "source": [
    "for i in range(2011, 2023):\n",
    "    url = f\"https://corporate.hkjc.com/corporate/common/annualreport/pdf/HKJC_AR{i}_Full.pdf\"\n",
    "    response = requests.get(url)\n",
    "    pdf = open(f\".\\\\Original\\\\HKJC_AR{i}.pdf\", \"wb\")\n",
    "    pdf.write(response.content)\n",
    "    pdf.close()"
   ]
  },
  {
   "attachments": {},
   "cell_type": "markdown",
   "metadata": {},
   "source": [
    "HSI"
   ]
  },
  {
   "cell_type": "code",
   "execution_count": 2,
   "metadata": {},
   "outputs": [],
   "source": [
    "day_b20 = int(datetime(int(date.today().strftime(\"%Y\"))-20,int(date.today().strftime(\"%m\")),int(date.today().strftime(f\"%d\"))).timestamp())\n",
    "today = int(datetime(int(date.today().strftime(\"%Y\")),int(date.today().strftime(\"%m\")),int(date.today().strftime(f\"%d\"))+1).timestamp())\n",
    "url = f\"https://query1.finance.yahoo.com/v8/finance/chart/%5EHSI?symbol=%5EHSI&period1={day_b20}&period2={today}&useYfid=true&interval=1d&includePrePost=true&events=div%7Csplit%7Cearn&lang=en-US&region=US&crumb=c0iNuYsQEnn&corsDomain=finance.yahoo.com\"\n",
    "header = {\"user-agent\": \"Mozilla/5.0 (Windows NT 10.0; Win64; x64) AppleWebKit/537.36 (KHTML, like Gecko) Chrome/106.0.0.0 Safari/537.36\"}\n",
    "\n",
    "res = requests.get(url, headers=header)\n",
    "content = json.loads(res.text)\n",
    "\n",
    "date1 = content['chart']['result'][0]['timestamp']\n",
    "date2 = [date.fromtimestamp(date1[j]).strftime(f\"%Y-%m-%d\") for j in range(len(date1))]\n",
    "close = content['chart']['result'][0]['indicators']['quote'][0]['close']\n",
    "\n",
    "d = {\"date\": date2, \"close\": close}\n",
    "df = pd.DataFrame(d)[::-1]\n",
    "df = df.set_index(\"date\")\n",
    "\n",
    "fn_today = str(date.today().strftime(\"%Y\"))+str(date.today().strftime(\"%m\"))+str(date.today().strftime(f\"%d\"))\n",
    "df.to_csv(f\"HSI_{fn_today}.csv\")"
   ]
  }
 ],
 "metadata": {
  "kernelspec": {
   "display_name": "base",
   "language": "python",
   "name": "python3"
  },
  "language_info": {
   "codemirror_mode": {
    "name": "ipython",
    "version": 3
   },
   "file_extension": ".py",
   "mimetype": "text/x-python",
   "name": "python",
   "nbconvert_exporter": "python",
   "pygments_lexer": "ipython3",
   "version": "3.9.13"
  },
  "orig_nbformat": 4,
  "vscode": {
   "interpreter": {
    "hash": "a3afecf7d885558af3070a005c655da1262413a49666af27f257a534efe25fa4"
   }
  }
 },
 "nbformat": 4,
 "nbformat_minor": 2
}
